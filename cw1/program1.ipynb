{
 "cells": [
  {
   "cell_type": "markdown",
   "metadata": {},
   "source": [
    "### Obliczone wartości energii\n",
    "\n",
    "* a) -5,346593664794209\n",
    "* b) -6,992057747845057\n",
    "* c) -5,584672027506074\n",
    "\n",
    "### Wyniki z programu\n",
    "* TCGAGTTTACACTTTATGCTTCCGGCTCGGTTAAAGTGTGG\n",
    "    * Program: **-3,034955770443927**\n",
    "    * Publikacja: **-3,03495577**\n",
    "\n",
    "* TCGTGTTTACCCTTTATGCTTCCGGCTCGTATAATGTGTGG\n",
    "    * Program: **-5,893790737393078**\n",
    "    * Publikacja: **-5,893790737**\n"
   ]
  },
  {
   "cell_type": "code",
   "execution_count": 1,
   "metadata": {},
   "outputs": [],
   "source": [
    "import pandas as pd"
   ]
  },
  {
   "cell_type": "code",
   "execution_count": 7,
   "metadata": {},
   "outputs": [
    {
     "name": "stdout",
     "output_type": "stream",
     "text": [
      "-3.034955770443927\n",
      "-5.893790737393078\n"
     ]
    }
   ],
   "source": [
    "def calculate_energy(seq):\n",
    "    seq2 = list(seq)\n",
    "\n",
    "    matrix = pd.read_csv('macierz_RNAP.txt', sep=\" \", header=None)\n",
    "    matrix.columns = [\"A\", \"C\", \"G\", \"T\"]\n",
    "\n",
    "    energy_list = []\n",
    "    count = -1\n",
    "\n",
    "    for base in seq2:\n",
    "        count += 1\n",
    "        energy = matrix.iloc[count][base]\n",
    "        energy_list.append(energy)\n",
    "\n",
    "    energy_sum = 0\n",
    "    \n",
    "    for energy in energy_list:\n",
    "        energy_sum += energy\n",
    "    \n",
    "    return energy_sum\n",
    "\n",
    "print(calculate_energy('TCGAGTTTACACTTTATGCTTCCGGCTCGGTTAAAGTGTGG'))\n",
    "print(calculate_energy('TCGTGTTTACCCTTTATGCTTCCGGCTCGTATAATGTGTGG'))"
   ]
  }
 ],
 "metadata": {
  "kernelspec": {
   "display_name": "Python 3",
   "language": "python",
   "name": "python3"
  },
  "language_info": {
   "codemirror_mode": {
    "name": "ipython",
    "version": 3
   },
   "file_extension": ".py",
   "mimetype": "text/x-python",
   "name": "python",
   "nbconvert_exporter": "python",
   "pygments_lexer": "ipython3",
   "version": "3.7.9"
  }
 },
 "nbformat": 4,
 "nbformat_minor": 2
}
