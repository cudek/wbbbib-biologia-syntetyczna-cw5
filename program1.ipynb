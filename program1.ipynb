{
 "cells": [
  {
   "cell_type": "code",
   "execution_count": null,
   "metadata": {},
   "outputs": [
    {
     "name": "stdout",
     "output_type": "stream",
     "text": [
      "Load your sequence\n"
     ]
    }
   ],
   "source": [
    "import pandas as pd\n",
    "\n",
    "print(\"Load your sequence\")\n",
    "seq = input()\n",
    "seq2 = list(seq)\n",
    "\n",
    "matrix = pd.read_csv('macierz_RNAP.txt', sep=\" \", header=None)\n",
    "matrix.columns = [\"A\", \"C\", \"G\", \"T\"]\n",
    "\n",
    "energy_list = []\n",
    "count = -1\n",
    "\n",
    "for base in seq2:\n",
    "    count += 1\n",
    "    energy = matrix.iloc[count][base]\n",
    "    energy_list.append(energy)\n",
    "\n",
    "energy_sum = 0\n",
    "for energy in energy_list:\n",
    "    energy_sum += energy\n",
    "print(energy_sum)"
   ]
  }
 ],
 "metadata": {
  "kernelspec": {
   "display_name": "Python 3",
   "language": "python",
   "name": "python3"
  },
  "language_info": {
   "codemirror_mode": {
    "name": "ipython",
    "version": 3
   },
   "file_extension": ".py",
   "mimetype": "text/x-python",
   "name": "python",
   "nbconvert_exporter": "python",
   "pygments_lexer": "ipython3",
   "version": "3.7.4"
  }
 },
 "nbformat": 4,
 "nbformat_minor": 2
}
